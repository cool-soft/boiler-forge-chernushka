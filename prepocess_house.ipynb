{
 "cells": [
  {
   "cell_type": "code",
   "execution_count": 47,
   "id": "d2c02215-1422-4177-a63b-adf971a5c322",
   "metadata": {
    "editable": true,
    "slideshow": {
     "slide_type": ""
    },
    "tags": []
   },
   "outputs": [],
   "source": [
    "import os\n",
    "from dateutil.tz import gettz\n",
    "import pandas as pd\n",
    "\n",
    "SRC_HOUSE_DATASET_PATH = os.path.abspath(\"..\\\\shared_storage\\\\datasets\\\\src\\\\apartment_house\\\\1.db\")\n",
    "PREPROCESSED_HOUSE_DATASET_PATH = os.path.abspath(\"..\\\\shared_storage\\\\datasets\\\\preprocessed\\\\apartment_house_heating_circuit\\\\1.pickle\")\n",
    "\n",
    "SRC_BOILER_DATASET_PATH = os.path.abspath(\"..\\\\shared_storage\\\\datasets\\\\src\\\\boilers\\\\144.db\")\n",
    "\n",
    "start_timestamp = pd.Timestamp(2021,9,4,0,0,0, tz=gettz(\"Asia/Yekaterinburg\"))\n",
    "end_timestamp = pd.Timestamp(2022,5,1,0,0,0, tz=gettz(\"Asia/Yekaterinburg\"))\n",
    "\n",
    "time_tick = pd.Timedelta(minutes=3)"
   ]
  },
  {
   "cell_type": "code",
   "execution_count": 56,
   "id": "d6f2c77b-bb6f-428b-9825-8f711757aa48",
   "metadata": {
    "editable": true,
    "slideshow": {
     "slide_type": ""
    },
    "tags": []
   },
   "outputs": [],
   "source": [
    "from boiler.constants import column_names\n",
    "from boiler.data_processing.timestamp_parsing_algorithm import SimpleTimestampParsingAlgorithm\n",
    "\n",
    "import sqlite3\n",
    "\n",
    "\n",
    "def parse_from_conn(con):\n",
    "    df = pd.read_sql(\"SELECT * FROM meter_measurements\", con)\n",
    "    df = df[df[\"service\"]==\"OV\"] \n",
    "    df = df[[\"d_timestamp\", \"t1\"]]\n",
    "    \n",
    "    df[\"t1\"] = df[\"t1\"].apply(float)\n",
    "    timestamp_parser = SimpleTimestampParsingAlgorithm(\n",
    "        datetime_patterns=(\n",
    "            r\"(?P<year>\\d{4})-(?P<month>\\d{2})-(?P<day>\\d{2})\\s(?P<hours>\\d{2}):(?P<minutes>\\d{2}).{7}\",\n",
    "            r\"(?P<day>\\d{2})\\.(?P<month>\\d{2})\\.(?P<year>\\d{4})\\s(?P<hours>\\d{1,2}):(?P<minutes>\\d{2})\"\n",
    "        ), \n",
    "        timezone=gettz(\"Asia/Yekaterinburg\")\n",
    "    )\n",
    "    df[\"d_timestamp\"] = df[\"d_timestamp\"].apply(timestamp_parser.parse_datetime)\n",
    "    \n",
    "    df = df.rename(columns={\"t1\": column_names.FORWARD_TEMP, \"d_timestamp\": column_names.TIMESTAMP})\n",
    "\n",
    "    return df"
   ]
  },
  {
   "cell_type": "code",
   "execution_count": 57,
   "id": "59d97436-4ec2-44b0-8917-8ff8328d306e",
   "metadata": {},
   "outputs": [],
   "source": [
    "from boiler.data_processing.beetween_filter_algorithm import LeftClosedTimestampFilterAlgorithm\n",
    "from boiler.data_processing.timestamp_interpolator_algorithm import TimestampInterpolationAlgorithm\n",
    "from boiler.data_processing.timestamp_round_algorithm import NearestTimestampRoundAlgorithm\n",
    "from boiler.data_processing.value_interpolation_algorithm import \\\n",
    "    LinearInsideValueInterpolationAlgorithm, \\\n",
    "    LinearOutsideValueInterpolationAlgorithm\n",
    "\n",
    "timestamp_filter = LeftClosedTimestampFilterAlgorithm()\n",
    "timestamp_rounder = NearestTimestampRoundAlgorithm(time_tick)\n",
    "timestamp_interpolator = TimestampInterpolationAlgorithm(timestamp_rounder, time_tick)\n",
    "inside_interpolator = LinearInsideValueInterpolationAlgorithm()\n",
    "outside_interpolator = LinearOutsideValueInterpolationAlgorithm()"
   ]
  },
  {
   "cell_type": "code",
   "execution_count": 58,
   "id": "cd04f51d-55e2-4d27-afe3-3a39a1320822",
   "metadata": {
    "editable": true,
    "slideshow": {
     "slide_type": ""
    },
    "tags": []
   },
   "outputs": [
    {
     "data": {
      "text/html": [
       "<div>\n",
       "<style scoped>\n",
       "    .dataframe tbody tr th:only-of-type {\n",
       "        vertical-align: middle;\n",
       "    }\n",
       "\n",
       "    .dataframe tbody tr th {\n",
       "        vertical-align: top;\n",
       "    }\n",
       "\n",
       "    .dataframe thead th {\n",
       "        text-align: right;\n",
       "    }\n",
       "</style>\n",
       "<table border=\"1\" class=\"dataframe\">\n",
       "  <thead>\n",
       "    <tr style=\"text-align: right;\">\n",
       "      <th></th>\n",
       "      <th>timestamp</th>\n",
       "      <th>forward_temp</th>\n",
       "    </tr>\n",
       "  </thead>\n",
       "  <tbody>\n",
       "    <tr>\n",
       "      <th>0</th>\n",
       "      <td>2021-09-04 00:00:00+05:00</td>\n",
       "      <td>24.84</td>\n",
       "    </tr>\n",
       "    <tr>\n",
       "      <th>1</th>\n",
       "      <td>2021-09-04 00:03:00+05:00</td>\n",
       "      <td>24.82</td>\n",
       "    </tr>\n",
       "    <tr>\n",
       "      <th>2</th>\n",
       "      <td>2021-09-04 00:06:00+05:00</td>\n",
       "      <td>24.84</td>\n",
       "    </tr>\n",
       "    <tr>\n",
       "      <th>3</th>\n",
       "      <td>2021-09-04 00:09:00+05:00</td>\n",
       "      <td>24.83</td>\n",
       "    </tr>\n",
       "    <tr>\n",
       "      <th>4</th>\n",
       "      <td>2021-09-04 00:12:00+05:00</td>\n",
       "      <td>24.82</td>\n",
       "    </tr>\n",
       "  </tbody>\n",
       "</table>\n",
       "</div>"
      ],
      "text/plain": [
       "                  timestamp  forward_temp\n",
       "0 2021-09-04 00:00:00+05:00         24.84\n",
       "1 2021-09-04 00:03:00+05:00         24.82\n",
       "2 2021-09-04 00:06:00+05:00         24.84\n",
       "3 2021-09-04 00:09:00+05:00         24.83\n",
       "4 2021-09-04 00:12:00+05:00         24.82"
      ]
     },
     "execution_count": 58,
     "metadata": {},
     "output_type": "execute_result"
    }
   ],
   "source": [
    "con = sqlite3.connect(SRC_HOUSE_DATASET_PATH)\n",
    "house_df = parse_from_conn(con)\n",
    "\n",
    "house_df = timestamp_filter.filter_df_by_min_max_timestamp(house_df, start_timestamp, end_timestamp)\n",
    "house_df[column_names.TIMESTAMP] = timestamp_rounder.round_series(house_df[column_names.TIMESTAMP])\n",
    "house_df = house_df.drop_duplicates(subset=[column_names.TIMESTAMP])\n",
    "house_df = timestamp_interpolator.process_df(house_df, start_timestamp, end_timestamp)\n",
    "house_df[column_names.FORWARD_TEMP] = outside_interpolator.interpolate_series(house_df[column_names.FORWARD_TEMP])\n",
    "house_df[column_names.FORWARD_TEMP] = inside_interpolator.interpolate_series(house_df[column_names.FORWARD_TEMP])\n",
    "\n",
    "house_df.head()"
   ]
  },
  {
   "cell_type": "code",
   "execution_count": 61,
   "id": "3f706b79-b302-459c-80d0-e6eec7c3ade0",
   "metadata": {},
   "outputs": [
    {
     "data": {
      "text/html": [
       "<div>\n",
       "<style scoped>\n",
       "    .dataframe tbody tr th:only-of-type {\n",
       "        vertical-align: middle;\n",
       "    }\n",
       "\n",
       "    .dataframe tbody tr th {\n",
       "        vertical-align: top;\n",
       "    }\n",
       "\n",
       "    .dataframe thead th {\n",
       "        text-align: right;\n",
       "    }\n",
       "</style>\n",
       "<table border=\"1\" class=\"dataframe\">\n",
       "  <thead>\n",
       "    <tr style=\"text-align: right;\">\n",
       "      <th></th>\n",
       "      <th>timestamp</th>\n",
       "      <th>forward_temp</th>\n",
       "    </tr>\n",
       "  </thead>\n",
       "  <tbody>\n",
       "    <tr>\n",
       "      <th>0</th>\n",
       "      <td>2021-09-04 00:00:00+05:00</td>\n",
       "      <td>68.300003</td>\n",
       "    </tr>\n",
       "    <tr>\n",
       "      <th>1</th>\n",
       "      <td>2021-09-04 00:03:00+05:00</td>\n",
       "      <td>68.290001</td>\n",
       "    </tr>\n",
       "    <tr>\n",
       "      <th>2</th>\n",
       "      <td>2021-09-04 00:06:00+05:00</td>\n",
       "      <td>68.089996</td>\n",
       "    </tr>\n",
       "    <tr>\n",
       "      <th>3</th>\n",
       "      <td>2021-09-04 00:09:00+05:00</td>\n",
       "      <td>68.040001</td>\n",
       "    </tr>\n",
       "    <tr>\n",
       "      <th>4</th>\n",
       "      <td>2021-09-04 00:12:00+05:00</td>\n",
       "      <td>68.349998</td>\n",
       "    </tr>\n",
       "  </tbody>\n",
       "</table>\n",
       "</div>"
      ],
      "text/plain": [
       "                  timestamp  forward_temp\n",
       "0 2021-09-04 00:00:00+05:00     68.300003\n",
       "1 2021-09-04 00:03:00+05:00     68.290001\n",
       "2 2021-09-04 00:06:00+05:00     68.089996\n",
       "3 2021-09-04 00:09:00+05:00     68.040001\n",
       "4 2021-09-04 00:12:00+05:00     68.349998"
      ]
     },
     "execution_count": 61,
     "metadata": {},
     "output_type": "execute_result"
    }
   ],
   "source": [
    "con = sqlite3.connect(SRC_BOILER_DATASET_PATH)\n",
    "boiler_df = parse_from_conn(con)\n",
    "\n",
    "boiler_df = timestamp_filter.filter_df_by_min_max_timestamp(boiler_df, start_timestamp, end_timestamp)\n",
    "boiler_df[column_names.TIMESTAMP] = timestamp_rounder.round_series(boiler_df[column_names.TIMESTAMP])\n",
    "boiler_df = boiler_df.drop_duplicates(subset=[column_names.TIMESTAMP])\n",
    "boiler_df = timestamp_interpolator.process_df(boiler_df, start_timestamp, end_timestamp)\n",
    "boiler_df[column_names.FORWARD_TEMP] = outside_interpolator.interpolate_series(boiler_df[column_names.FORWARD_TEMP])\n",
    "boiler_df[column_names.FORWARD_TEMP] = inside_interpolator.interpolate_series(boiler_df[column_names.FORWARD_TEMP])\n",
    "\n",
    "boiler_df.head()"
   ]
  },
  {
   "cell_type": "code",
   "execution_count": 85,
   "id": "d090d61e-5de2-4347-9fbd-7effe817b2cf",
   "metadata": {},
   "outputs": [
    {
     "name": "stdout",
     "output_type": "stream",
     "text": [
      "9\n"
     ]
    }
   ],
   "source": [
    "from boiler.timedelta.calculators.algo.std_var_time_delta_calculation_algorithm import StdVarTimeDeltaCalculationAlgorithm\n",
    "from matplotlib import pyplot as plt\n",
    "\n",
    "boiler_temp = boiler_df[column_names.FORWARD_TEMP].to_numpy()\n",
    "house_temp = house_df[column_names.FORWARD_TEMP].to_numpy()\n",
    "\n",
    "calculator = StdVarTimeDeltaCalculationAlgorithm()\n",
    "lag = calculator.find_lag(boiler_temp, house_temp)\n",
    "print(lag)\n",
    "\n",
    "moved_boiler_temp = boiler_temp[:-lag]\n",
    "moved_house_temp = house_temp[lag:]"
   ]
  },
  {
   "cell_type": "code",
   "execution_count": null,
   "id": "1920169d-78bd-4984-bbaa-7f7a2b690fda",
   "metadata": {},
   "outputs": [],
   "source": [
    "train_count = 14400\n",
    "test_count = 14400\n"
   ]
  }
 ],
 "metadata": {
  "kernelspec": {
   "display_name": "Python 3 (ipykernel)",
   "language": "python",
   "name": "python3"
  },
  "language_info": {
   "codemirror_mode": {
    "name": "ipython",
    "version": 3
   },
   "file_extension": ".py",
   "mimetype": "text/x-python",
   "name": "python",
   "nbconvert_exporter": "python",
   "pygments_lexer": "ipython3",
   "version": "3.8.9"
  }
 },
 "nbformat": 4,
 "nbformat_minor": 5
}
